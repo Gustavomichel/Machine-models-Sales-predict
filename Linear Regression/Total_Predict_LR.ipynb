{
 "cells": [
  {
   "cell_type": "code",
   "execution_count": 1,
   "metadata": {},
   "outputs": [],
   "source": [
    "import pandas as pd\n",
    "from sklearn.model_selection import train_test_split\n",
    "from sklearn.linear_model import LinearRegression\n",
    "from sklearn.datasets import make_regression\n",
    "from sklearn import metrics\n",
    "import matplotlib.pyplot as plt\n",
    "import seaborn as sns"
   ]
  },
  {
   "cell_type": "code",
   "execution_count": 2,
   "metadata": {},
   "outputs": [],
   "source": [
    "df = pd.read_csv(r\"C:\\Users\\Pedro e Gustavo\\Desktop\\app\\ML_Model\\Data\\supermarket_sales - Sheet1.csv\")"
   ]
  },
  {
   "cell_type": "code",
   "execution_count": 3,
   "metadata": {},
   "outputs": [],
   "source": [
    "y = df['Total']\n",
    "x = df.iloc[:,  6:9]"
   ]
  },
  {
   "cell_type": "code",
   "execution_count": 4,
   "metadata": {},
   "outputs": [],
   "source": [
    "X_train, X_test, y_train, y_test = train_test_split(x,y, test_size=0.3, random_state=3)"
   ]
  },
  {
   "cell_type": "code",
   "execution_count": 5,
   "metadata": {},
   "outputs": [
    {
     "data": {
      "text/plain": [
       "<matplotlib.collections.PathCollection at 0x2a1b4519300>"
      ]
     },
     "execution_count": 5,
     "metadata": {},
     "output_type": "execute_result"
    },
    {
     "data": {
      "image/png": "[encoded data removed]",
      "text/plain": [
       "<Figure size 640x480 with 1 Axes>"
      ]
     },
     "metadata": {},
     "output_type": "display_data"
    }
   ],
   "source": [
    "x,y = make_regression(n_samples=200, n_features=1, noise=30)\n",
    "\n",
    "sns.set()\n",
    "plt.scatter(x,y)"
   ]
  },
  {
   "cell_type": "code",
   "execution_count": 6,
   "metadata": {},
   "outputs": [
    {
     "data": {
      "text/html": [
       "<style>#sk-container-id-1 {color: black;background-color: white;}#sk-container-id-1 pre{padding: 0;}#sk-container-id-1 div.sk-toggleable {background-color: white;}#sk-container-id-1 label.sk-toggleable__label {cursor: pointer;display: block;width: 100%;margin-bottom: 0;padding: 0.3em;box-sizing: border-box;text-align: center;}#sk-container-id-1 label.sk-toggleable__label-arrow:before {content: \"▸\";float: left;margin-right: 0.25em;color: #696969;}#sk-container-id-1 label.sk-toggleable__label-arrow:hover:before {color: black;}#sk-container-id-1 div.sk-estimator:hover label.sk-toggleable__label-arrow:before {color: black;}#sk-container-id-1 div.sk-toggleable__content {max-height: 0;max-width: 0;overflow: hidden;text-align: left;background-color: #f0f8ff;}#sk-container-id-1 div.sk-toggleable__content pre {margin: 0.2em;color: black;border-radius: 0.25em;background-color: #f0f8ff;}#sk-container-id-1 input.sk-toggleable__control:checked~div.sk-toggleable__content {max-height: 200px;max-width: 100%;overflow: auto;}#sk-container-id-1 input.sk-toggleable__control:checked~label.sk-toggleable__label-arrow:before {content: \"▾\";}#sk-container-id-1 div.sk-estimator input.sk-toggleable__control:checked~label.sk-toggleable__label {background-color: #d4ebff;}#sk-container-id-1 div.sk-label input.sk-toggleable__control:checked~label.sk-toggleable__label {background-color: #d4ebff;}#sk-container-id-1 input.sk-hidden--visually {border: 0;clip: rect(1px 1px 1px 1px);clip: rect(1px, 1px, 1px, 1px);height: 1px;margin: -1px;overflow: hidden;padding: 0;position: absolute;width: 1px;}#sk-container-id-1 div.sk-estimator {font-family: monospace;background-color: #f0f8ff;border: 1px dotted black;border-radius: 0.25em;box-sizing: border-box;margin-bottom: 0.5em;}#sk-container-id-1 div.sk-estimator:hover {background-color: #d4ebff;}#sk-container-id-1 div.sk-parallel-item::after {content: \"\";width: 100%;border-bottom: 1px solid gray;flex-grow: 1;}#sk-container-id-1 div.sk-label:hover label.sk-toggleable__label {background-color: #d4ebff;}#sk-container-id-1 div.sk-serial::before {content: \"\";position: absolute;border-left: 1px solid gray;box-sizing: border-box;top: 0;bottom: 0;left: 50%;z-index: 0;}#sk-container-id-1 div.sk-serial {display: flex;flex-direction: column;align-items: center;background-color: white;padding-right: 0.2em;padding-left: 0.2em;position: relative;}#sk-container-id-1 div.sk-item {position: relative;z-index: 1;}#sk-container-id-1 div.sk-parallel {display: flex;align-items: stretch;justify-content: center;background-color: white;position: relative;}#sk-container-id-1 div.sk-item::before, #sk-container-id-1 div.sk-parallel-item::before {content: \"\";position: absolute;border-left: 1px solid gray;box-sizing: border-box;top: 0;bottom: 0;left: 50%;z-index: -1;}#sk-container-id-1 div.sk-parallel-item {display: flex;flex-direction: column;z-index: 1;position: relative;background-color: white;}#sk-container-id-1 div.sk-parallel-item:first-child::after {align-self: flex-end;width: 50%;}#sk-container-id-1 div.sk-parallel-item:last-child::after {align-self: flex-start;width: 50%;}#sk-container-id-1 div.sk-parallel-item:only-child::after {width: 0;}#sk-container-id-1 div.sk-dashed-wrapped {border: 1px dashed gray;margin: 0 0.4em 0.5em 0.4em;box-sizing: border-box;padding-bottom: 0.4em;background-color: white;}#sk-container-id-1 div.sk-label label {font-family: monospace;font-weight: bold;display: inline-block;line-height: 1.2em;}#sk-container-id-1 div.sk-label-container {text-align: center;}#sk-container-id-1 div.sk-container {/* jupyter's `normalize.less` sets `[hidden] { display: none; }` but bootstrap.min.css set `[hidden] { display: none !important; }` so we also need the `!important` here to be able to override the default hidden behavior on the sphinx rendered scikit-learn.org. See: https://github.com/scikit-learn/scikit-learn/issues/21755 */display: inline-block !important;position: relative;}#sk-container-id-1 div.sk-text-repr-fallback {display: none;}</style><div id=\"sk-container-id-1\" class=\"sk-top-container\"><div class=\"sk-text-repr-fallback\"><pre>LinearRegression()</pre><b>In a Jupyter environment, please rerun this cell to show the HTML representation or trust the notebook. <br />On GitHub, the HTML representation is unable to render, please try loading this page with nbviewer.org.</b></div><div class=\"sk-container\" hidden><div class=\"sk-item\"><div class=\"sk-estimator sk-toggleable\"><input class=\"sk-toggleable__control sk-hidden--visually\" id=\"sk-estimator-id-1\" type=\"checkbox\" checked><label for=\"sk-estimator-id-1\" class=\"sk-toggleable__label sk-toggleable__label-arrow\">LinearRegression</label><div class=\"sk-toggleable__content\"><pre>LinearRegression()</pre></div></div></div></div></div>"
      ],
      "text/plain": [
       "LinearRegression()"
      ]
     },
     "execution_count": 6,
     "metadata": {},
     "output_type": "execute_result"
    }
   ],
   "source": [
    "clf = LinearRegression()\n",
    "\n",
    "clf.fit(X_train, y_train)"
   ]
  },
  {
   "cell_type": "code",
   "execution_count": 7,
   "metadata": {},
   "outputs": [
    {
     "name": "stdout",
     "output_type": "stream",
     "text": [
      "1.0\n",
      "[116.907  536.592  514.605  374.7975 164.871  257.145  764.19   817.236\n",
      " 190.596  103.0365 429.1665 731.43    85.512  160.209  472.311   41.076\n",
      " 182.91   652.89   148.974  759.675  256.41   575.736  510.615  394.3275\n",
      " 262.794  667.38   362.943   56.1225  99.9075 269.934  154.1295 259.77\n",
      " 649.299  146.6325 495.3165 137.004  404.544   48.51   733.6035 365.904\n",
      " 180.6    610.491  439.215  101.808   94.185  503.7375 570.78    78.0045\n",
      " 188.0025  87.234   78.7185  23.499  757.365  300.573  214.137   95.865\n",
      " 165.4485 337.512  152.019   57.1725 463.89   263.97   184.107  119.259\n",
      "  69.405  107.31    40.341   74.7075 333.984  484.5225 339.36   351.099\n",
      " 175.014  144.963  874.125  379.9215 367.038  234.0975  26.5545  48.7305\n",
      " 135.576  190.155  521.01   263.13   304.542   79.611  486.444  151.284\n",
      " 673.995  165.9    204.246   63.9135  65.7405 335.013  832.944  419.832\n",
      " 354.0075  60.816  184.086  216.4365  20.1075 926.9505 166.635   86.625\n",
      " 246.6765 864.57   161.553  494.1825 478.233  144.081   76.356  175.0455\n",
      " 951.825  287.91    46.683  221.886  833.9625 334.4775  72.3975 225.792\n",
      " 248.409  155.652  125.979  308.91    94.1745 310.716  680.61   471.03\n",
      " 397.992  319.788  171.7275 343.224  145.971  829.71   432.768  291.438\n",
      " 781.62   469.413  132.027  491.085   77.658  401.73   214.746   98.028\n",
      " 742.2975  10.6785 253.008  404.649  216.846   90.3    165.123  138.1275\n",
      " 624.897  169.3125 115.08   586.635  269.535  450.1035 398.475  102.018\n",
      "  82.719  151.515  373.17   321.111  293.202   75.474  629.16   474.348\n",
      " 224.4375  41.391  117.831  125.055  627.6165 318.108  130.0425 394.632\n",
      " 195.594   33.432  489.048  148.68   195.678  470.673  470.988  852.705\n",
      " 708.225   89.0715 721.98   333.9525  22.659  523.971  125.664  856.4535\n",
      "  49.308  423.15   164.682  418.95    32.151  597.6285 121.863  130.8825\n",
      " 822.255  860.685  241.458  572.775   31.9305 329.196  629.8425 233.52\n",
      " 208.089  218.0115 631.1445 535.7205 634.3785  86.247  536.844  206.43\n",
      " 881.307  209.559   18.6375  91.56   794.6505 608.076  360.885  167.895\n",
      " 103.131  145.5825 271.278  621.243  217.6335 452.865  216.846  455.1225\n",
      " 708.3195 309.3615 100.9155  82.887  506.6355  76.923  512.19    76.5765\n",
      " 351.603  497.07   242.676  194.124  657.531  316.47   297.801  527.5095\n",
      " 488.985  141.75   479.64    16.275  232.155  313.74    40.9605 749.7\n",
      " 416.178  294.651   28.4235 311.1885 820.365  931.035  160.44    63.9975\n",
      " 281.169  299.8485 207.585  697.935  103.782  384.72   271.2885 407.316\n",
      " 737.7615 507.444  261.198  214.998   30.408  535.374  597.0405 146.328\n",
      " 888.615  356.5485 131.208  125.706  833.595  193.011   69.09   942.4485\n",
      " 359.205  345.0195  31.752  588.357  156.03   181.881   78.435  273.0525\n",
      " 252.756  462.21   690.018  793.716 ]\n"
     ]
    }
   ],
   "source": [
    "model = clf.predict(X_test)\n",
    "\n",
    "print(metrics.r2_score(y_test, model))\n",
    "print(model)"
   ]
  }
 ],
 "metadata": {
  "kernelspec": {
   "display_name": "Python 3.10.7 ('venv': venv)",
   "language": "python",
   "name": "python3"
  },
  "language_info": {
   "codemirror_mode": {
    "name": "ipython",
    "version": 3
   },
   "file_extension": ".py",
   "mimetype": "text/x-python",
   "name": "python",
   "nbconvert_exporter": "python",
   "pygments_lexer": "ipython3",
   "version": "3.10.7"
  },
  "orig_nbformat": 4,
  "vscode": {
   "interpreter": {
    "hash": "12bd62b72b20620eb93d3a9faa6c372946f7c1654bdbd437483428c59d1181a4"
   }
  }
 },
 "nbformat": 4,
 "nbformat_minor": 2
}
